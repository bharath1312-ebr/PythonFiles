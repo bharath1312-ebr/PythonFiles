{
 "cells": [
  {
   "cell_type": "code",
   "execution_count": 1,
   "metadata": {},
   "outputs": [],
   "source": [
    "### Prac Hackerearth"
   ]
  },
  {
   "cell_type": "code",
   "execution_count": 10,
   "metadata": {},
   "outputs": [
    {
     "name": "stdin",
     "output_type": "stream",
     "text": [
      "enter char aeiujso\n"
     ]
    },
    {
     "name": "stdout",
     "output_type": "stream",
     "text": [
      "lovely string\n",
      "lovely string\n",
      "lovely string\n",
      "lovely string\n",
      "lovely string\n",
      "ugly string\n"
     ]
    }
   ],
   "source": [
    "N = 3\n",
    "n1 = input(\"enter char\")\n",
    "string= ''\n",
    "for i in 'aeiouAEIOU':\n",
    "    if i in n1:\n",
    "        print(\"lovely string\")\n",
    "else:\n",
    "    print(\"ugly string\")"
   ]
  },
  {
   "cell_type": "code",
   "execution_count": 20,
   "metadata": {},
   "outputs": [
    {
     "name": "stdin",
     "output_type": "stream",
     "text": [
      " JHSBFHJKBFRS\n"
     ]
    },
    {
     "ename": "TypeError",
     "evalue": "'str' object cannot be interpreted as an integer",
     "output_type": "error",
     "traceback": [
      "\u001b[0;31m---------------------------------------------------------------------------\u001b[0m",
      "\u001b[0;31mTypeError\u001b[0m                                 Traceback (most recent call last)",
      "\u001b[0;32m<ipython-input-20-9a53805e5ff0>\u001b[0m in \u001b[0;36m<module>\u001b[0;34m\u001b[0m\n\u001b[1;32m     11\u001b[0m \u001b[0;34m\u001b[0m\u001b[0m\n\u001b[1;32m     12\u001b[0m \u001b[0mn\u001b[0m \u001b[0;34m=\u001b[0m \u001b[0;34m(\u001b[0m\u001b[0minput\u001b[0m\u001b[0;34m(\u001b[0m\u001b[0;34m)\u001b[0m\u001b[0;34m)\u001b[0m\u001b[0;34m\u001b[0m\u001b[0;34m\u001b[0m\u001b[0m\n\u001b[0;32m---> 13\u001b[0;31m \u001b[0;32mfor\u001b[0m \u001b[0mi\u001b[0m \u001b[0;32min\u001b[0m \u001b[0mrange\u001b[0m\u001b[0;34m(\u001b[0m\u001b[0mn\u001b[0m\u001b[0;34m)\u001b[0m\u001b[0;34m:\u001b[0m\u001b[0;34m\u001b[0m\u001b[0;34m\u001b[0m\u001b[0m\n\u001b[0m\u001b[1;32m     14\u001b[0m     \u001b[0ms\u001b[0m \u001b[0;34m=\u001b[0m \u001b[0minput\u001b[0m\u001b[0;34m(\u001b[0m\u001b[0;34m)\u001b[0m\u001b[0;34m\u001b[0m\u001b[0;34m\u001b[0m\u001b[0m\n\u001b[1;32m     15\u001b[0m     \u001b[0;32mif\u001b[0m \u001b[0msolve\u001b[0m\u001b[0;34m(\u001b[0m\u001b[0ms\u001b[0m\u001b[0;34m)\u001b[0m\u001b[0;34m:\u001b[0m\u001b[0;34m\u001b[0m\u001b[0;34m\u001b[0m\u001b[0m\n",
      "\u001b[0;31mTypeError\u001b[0m: 'str' object cannot be interpreted as an integer"
     ]
    }
   ],
   "source": [
    "def solve(s):\n",
    "    vowels = set(['a', 'e', 'i', 'o', 'u'])\n",
    "    flag1 = True\n",
    "    flag2 = True\n",
    "    for i in vowels:\n",
    "        if i not in s:\n",
    "            flag1 = False\n",
    "        if i.upper() not in s:\n",
    "            flag2 = False\n",
    "    return flag1 or flag2\n",
    " \n",
    "n = (input())\n",
    "for i in range(n):\n",
    "    s = input()\n",
    "    if solve(s):\n",
    "        print(\"lovely string\")\n",
    "    else:\n",
    "        print(\"ugly string\")"
   ]
  },
  {
   "cell_type": "code",
   "execution_count": 5,
   "metadata": {},
   "outputs": [
    {
     "name": "stdout",
     "output_type": "stream",
     "text": [
      "1\n",
      "2\n",
      "4\n",
      "7\n",
      "8\n",
      "11\n",
      "13\n",
      "14\n",
      "16\n",
      "17\n",
      "19\n",
      "22\n",
      "23\n",
      "26\n",
      "28\n",
      "29\n",
      "31\n",
      "32\n",
      "34\n",
      "37\n",
      "38\n",
      "41\n",
      "43\n",
      "44\n",
      "46\n",
      "47\n",
      "49\n",
      "52\n",
      "53\n",
      "56\n",
      "58\n",
      "59\n",
      "61\n",
      "62\n",
      "64\n",
      "67\n",
      "68\n",
      "71\n",
      "73\n",
      "74\n",
      "76\n",
      "77\n",
      "79\n",
      "82\n",
      "83\n",
      "86\n",
      "88\n",
      "89\n",
      "91\n",
      "92\n",
      "94\n",
      "97\n",
      "98\n"
     ]
    }
   ],
   "source": [
    "for i in range(100):\n",
    "    if i % 3 !=0 and i % 5 != 0:\n",
    "        print(i)"
   ]
  },
  {
   "cell_type": "code",
   "execution_count": 16,
   "metadata": {},
   "outputs": [
    {
     "name": "stdout",
     "output_type": "stream",
     "text": [
      "1\n",
      "2\n",
      "4\n",
      "7\n",
      "8\n",
      "11\n",
      "13\n",
      "14\n",
      "16\n",
      "17\n",
      "19\n",
      "22\n",
      "23\n",
      "26\n",
      "28\n",
      "29\n",
      "31\n",
      "32\n",
      "34\n",
      "37\n",
      "38\n",
      "41\n",
      "43\n",
      "44\n",
      "46\n",
      "47\n",
      "49\n",
      "52\n",
      "53\n",
      "56\n",
      "58\n",
      "59\n",
      "61\n",
      "62\n",
      "64\n",
      "67\n",
      "68\n",
      "71\n",
      "73\n",
      "74\n",
      "76\n",
      "77\n",
      "79\n",
      "82\n",
      "83\n",
      "86\n",
      "88\n",
      "89\n",
      "91\n",
      "92\n",
      "94\n",
      "97\n",
      "98\n"
     ]
    }
   ],
   "source": [
    "i = 0\n",
    "while i in range(100):\n",
    "    i = i + 1\n",
    "    if i % 3!=0 and i % 5 !=0:\n",
    "        print(i)"
   ]
  },
  {
   "cell_type": "code",
   "execution_count": 19,
   "metadata": {},
   "outputs": [],
   "source": [
    "from array import *"
   ]
  },
  {
   "cell_type": "code",
   "execution_count": 20,
   "metadata": {},
   "outputs": [],
   "source": []
  },
  {
   "cell_type": "code",
   "execution_count": 38,
   "metadata": {},
   "outputs": [
    {
     "name": "stdin",
     "output_type": "stream",
     "text": [
      "Enter the Length of array 2\n",
      "Enter the value 12\n",
      "Enter the value 33\n"
     ]
    },
    {
     "name": "stdout",
     "output_type": "stream",
     "text": [
      "array('i', [12, 33])\n"
     ]
    },
    {
     "name": "stdin",
     "output_type": "stream",
     "text": [
      "enter the value to search 33\n"
     ]
    },
    {
     "name": "stdout",
     "output_type": "stream",
     "text": [
      "1\n"
     ]
    }
   ],
   "source": [
    "arr = array('i',[])\n",
    "n = int(input(\"Enter the Length of array\"))\n",
    "for i in range(n):\n",
    "    x = int(input(\"Enter the value\"))\n",
    "    arr.append(x)\n",
    "print(arr)\n",
    "k = 0\n",
    "val = int(input('enter the value to search'))\n",
    "for e in arr:\n",
    "    if e == val:\n",
    "        print(k)\n",
    "        break\n",
    "    k+=1"
   ]
  },
  {
   "cell_type": "code",
   "execution_count": 39,
   "metadata": {},
   "outputs": [],
   "source": [
    "## arr.index[val] Also gives same result"
   ]
  },
  {
   "cell_type": "code",
   "execution_count": 40,
   "metadata": {},
   "outputs": [
    {
     "name": "stdout",
     "output_type": "stream",
     "text": [
      "1234\n",
      "234\n",
      "34\n",
      "4\n",
      "AAA\n",
      "BBB\n",
      "CCC\n",
      "DDD\n"
     ]
    }
   ],
   "source": [
    "for i in range(1,5):\n",
    "    for j in range(i,5):\n",
    "        print(j, end=\"\")\n",
    "    print()\n",
    "\n",
    "str1 = 'ABCD'\n",
    "str2 = 'PQR'\n",
    "for i in str1:\n",
    "    for j in str2:\n",
    "        print(i, end='')\n",
    "    print()"
   ]
  },
  {
   "cell_type": "code",
   "execution_count": 7,
   "metadata": {},
   "outputs": [
    {
     "data": {
      "text/plain": [
       "True"
      ]
     },
     "execution_count": 7,
     "metadata": {},
     "output_type": "execute_result"
    }
   ],
   "source": [
    "def some(s1,s2):\n",
    "    if(sorted(s1)==sorted(s2)):\n",
    "        return True\n",
    "    else:\n",
    "        return False\n",
    "some(\"dog\",\"god\")"
   ]
  },
  {
   "cell_type": "code",
   "execution_count": null,
   "metadata": {},
   "outputs": [],
   "source": []
  }
 ],
 "metadata": {
  "kernelspec": {
   "display_name": "Python 3",
   "language": "python",
   "name": "python3"
  },
  "language_info": {
   "codemirror_mode": {
    "name": "ipython",
    "version": 3
   },
   "file_extension": ".py",
   "mimetype": "text/x-python",
   "name": "python",
   "nbconvert_exporter": "python",
   "pygments_lexer": "ipython3",
   "version": "3.9.2"
  }
 },
 "nbformat": 4,
 "nbformat_minor": 4
}
